{
  "nbformat": 4,
  "nbformat_minor": 0,
  "metadata": {
    "colab": {
      "name": "complex -numbers-python.ipynb",
      "provenance": [],
      "collapsed_sections": [],
      "include_colab_link": true
    },
    "kernelspec": {
      "name": "python3",
      "display_name": "Python 3"
    }
  },
  "cells": [
    {
      "cell_type": "markdown",
      "metadata": {
        "id": "view-in-github",
        "colab_type": "text"
      },
      "source": [
        "<a href=\"https://colab.research.google.com/github/melsakka07/hello-world/blob/master/complex_numbers_python.ipynb\" target=\"_parent\"><img src=\"https://colab.research.google.com/assets/colab-badge.svg\" alt=\"Open In Colab\"/></a>"
      ]
    },
    {
      "cell_type": "markdown",
      "metadata": {
        "id": "iYejwCZSj9_Q",
        "colab_type": "text"
      },
      "source": [
        "Quick Refresher on Complex Numbers in Python"
      ]
    },
    {
      "cell_type": "code",
      "metadata": {
        "id": "Rea1eDDfiBo6",
        "colab_type": "code",
        "colab": {
          "base_uri": "https://localhost:8080/",
          "height": 54
        },
        "outputId": "0ef3eb15-8df6-447c-f2db-501b431875a8"
      },
      "source": [
        "\n",
        "# Python code to demonstrate the working of \n",
        "# complex(), real() and imag() \n",
        "  \n",
        "# importing \"cmath\" for complex number operations \n",
        "import cmath \n",
        "  \n",
        "# Initializing real numbers \n",
        "x = 5\n",
        "y = 3\n",
        "  \n",
        "# converting x and y into complex number \n",
        "z = complex(x,y); \n",
        "  \n",
        "# printing real and imaginary part of complex number \n",
        "print (\"The real part of complex number is : \",end=\"\") \n",
        "print (z.real) \n",
        "  \n",
        "print (\"The imaginary part of complex number is : \",end=\"\") \n",
        "print (z.imag) \n"
      ],
      "execution_count": 1,
      "outputs": [
        {
          "output_type": "stream",
          "text": [
            "The real part of complex number is : 5.0\n",
            "The imaginary part of complex number is : 3.0\n"
          ],
          "name": "stdout"
        }
      ]
    },
    {
      "cell_type": "code",
      "metadata": {
        "id": "zidgGGg8ilyQ",
        "colab_type": "code",
        "colab": {
          "base_uri": "https://localhost:8080/",
          "height": 35
        },
        "outputId": "e67e30be-160c-4dd2-fc8d-e1c8c6173dc9"
      },
      "source": [
        "# Python code to demonstrate the working of \n",
        "# phase() \n",
        "\n",
        "# importing \"cmath\" for complex number operations \n",
        "import cmath \n",
        "\n",
        "# Initializing real numbers \n",
        "x = -1.0\n",
        "y = 0.0\n",
        "\n",
        "# converting x and y into complex number \n",
        "z = complex(x,y); \n",
        "\n",
        "# printing phase of a complex number using phase() \n",
        "print (\"The phase of complex number is : \",end=\"\") \n",
        "print (cmath.phase(z)) \n"
      ],
      "execution_count": 2,
      "outputs": [
        {
          "output_type": "stream",
          "text": [
            "The phase of complex number is : 3.141592653589793\n"
          ],
          "name": "stdout"
        }
      ]
    },
    {
      "cell_type": "code",
      "metadata": {
        "id": "xCsIFXbfiqIF",
        "colab_type": "code",
        "colab": {
          "base_uri": "https://localhost:8080/",
          "height": 54
        },
        "outputId": "dc80f8e6-61a2-4e2f-966d-0a28f52fb9b4"
      },
      "source": [
        "# Python code to demonstrate the working of \n",
        "# polar() and rect() \n",
        "\n",
        "# importing \"cmath\" for complex number operations \n",
        "import cmath \n",
        "import math \n",
        "\n",
        "# Initializing real numbers \n",
        "x = 1.0\n",
        "y = 1.0\n",
        "\n",
        "# converting x and y into complex number \n",
        "z = complex(x,y); \n",
        "\n",
        "# converting complex number into polar using polar() \n",
        "w = cmath.polar(z) \n",
        "\n",
        "# printing modulus and argument of polar complex number \n",
        "print (\"The modulus and argument of polar complex number is : \",end=\"\") \n",
        "print (w) \n",
        "\n",
        "# converting complex number into rectangular using rect() \n",
        "w = cmath.rect(1.4142135623730951, 0.7853981633974483) \n",
        "\n",
        "# printing rectangular form of complex number \n",
        "print (\"The rectangular form of complex number is : \",end=\"\") \n",
        "print (w) \n"
      ],
      "execution_count": 3,
      "outputs": [
        {
          "output_type": "stream",
          "text": [
            "The modulus and argument of polar complex number is : (1.4142135623730951, 0.7853981633974483)\n",
            "The rectangular form of complex number is : (1.0000000000000002+1j)\n"
          ],
          "name": "stdout"
        }
      ]
    },
    {
      "cell_type": "code",
      "metadata": {
        "id": "9UpETyUuitso",
        "colab_type": "code",
        "colab": {
          "base_uri": "https://localhost:8080/",
          "height": 54
        },
        "outputId": "d481bd83-c9c8-4e5f-a3cf-e25b9b9087b0"
      },
      "source": [
        "# Python code to demonstrate the working of \n",
        "# exp(), log() \n",
        "\n",
        "# importing \"cmath\" for complex number operations \n",
        "import cmath \n",
        "import math \n",
        "\n",
        "# Initializing real numbers \n",
        "x = 1.0\n",
        "y = 1.0\n",
        "\n",
        "# converting x and y into complex number \n",
        "z = complex(x, y); \n",
        "\n",
        "# printing exponent of complex number \n",
        "print (\"The exponent of complex number is : \", end=\"\") \n",
        "print (cmath.exp(z)) \n",
        "\n",
        "# printing log form of complex number \n",
        "print (\"The log(base 10) of complex number is : \", end=\"\") \n",
        "print (cmath.log(z,10)) \n"
      ],
      "execution_count": 4,
      "outputs": [
        {
          "output_type": "stream",
          "text": [
            "The exponent of complex number is : (1.4686939399158851+2.2873552871788423j)\n",
            "The log(base 10) of complex number is : (0.15051499783199057+0.3410940884604603j)\n"
          ],
          "name": "stdout"
        }
      ]
    },
    {
      "cell_type": "code",
      "metadata": {
        "id": "D3agyN6gi7qJ",
        "colab_type": "code",
        "colab": {
          "base_uri": "https://localhost:8080/",
          "height": 54
        },
        "outputId": "4a72977f-c661-421f-d5f9-b285e0c700ed"
      },
      "source": [
        "# Python code to demonstrate the working of \n",
        "# log10(), sqrt() \n",
        "# importing \"cmath\" for complex number operations \n",
        "import cmath \n",
        "import math \n",
        "\n",
        "# Initializing real numbers \n",
        "x = 1.0\n",
        "y = 1.0\n",
        "\n",
        "# converting x and y into complex number \n",
        "z = complex(x, y); \n",
        "\n",
        "# printing log10 of complex number \n",
        "print (\"The log10 of complex number is : \", end=\"\") \n",
        "print (cmath.log10(z)) \n",
        "\n",
        "# printing square root form of complex number \n",
        "print (\"The square root of complex number is : \", end=\"\") \n",
        "print (cmath.sqrt(z)) \n"
      ],
      "execution_count": 5,
      "outputs": [
        {
          "output_type": "stream",
          "text": [
            "The log10 of complex number is : (0.15051499783199057+0.3410940884604603j)\n",
            "The square root of complex number is : (1.09868411346781+0.45508986056222733j)\n"
          ],
          "name": "stdout"
        }
      ]
    },
    {
      "cell_type": "code",
      "metadata": {
        "id": "4PgZ51SYjLn4",
        "colab_type": "code",
        "colab": {
          "base_uri": "https://localhost:8080/",
          "height": 72
        },
        "outputId": "dc00939e-5f05-4ba1-f014-c32c77ed4ff1"
      },
      "source": [
        "# Python code to demonstrate the working of \n",
        "# isnan(), isinf(), isfinite() \n",
        "\n",
        "# importing \"cmath\" for complex number operations \n",
        "import cmath \n",
        "import math \n",
        "\n",
        "# Initializing real numbers \n",
        "x = 1.0\n",
        "y = 1.0\n",
        "a = math.inf \n",
        "b = math.nan \n",
        "\n",
        "# converting x and y into complex number \n",
        "z = complex(x,y); \n",
        "\n",
        "# converting x and a into complex number \n",
        "w = complex(x,a); \n",
        "\n",
        "# converting x and b into complex number \n",
        "v = complex(x,b); \n",
        "\n",
        "# checking if both numbers are finite \n",
        "if cmath.isfinite(z): \n",
        "\tprint (\"Complex number is finite\") \n",
        "else : print (\"Complex number is infinite\") \n",
        "\t\n",
        "# checking if either number is/are infinite \n",
        "if cmath.isinf(w): \n",
        "\tprint (\"Complex number is infinite\") \n",
        "else : print (\"Complex number is finite\") \n",
        "\n",
        "# checking if either number is/are infinite \n",
        "if cmath.isnan(v): \n",
        "\tprint (\"Complex number is NaN\") \n",
        "else : print (\"Complex number is not NaN\") \n"
      ],
      "execution_count": 6,
      "outputs": [
        {
          "output_type": "stream",
          "text": [
            "Complex number is finite\n",
            "Complex number is infinite\n",
            "Complex number is NaN\n"
          ],
          "name": "stdout"
        }
      ]
    },
    {
      "cell_type": "code",
      "metadata": {
        "id": "vqFvawh7jL1_",
        "colab_type": "code",
        "colab": {
          "base_uri": "https://localhost:8080/",
          "height": 54
        },
        "outputId": "299e7846-b10d-416e-bb69-843cde6fa251"
      },
      "source": [
        "# Python code to demonstrate the working of \n",
        "# pi and e \n",
        "\n",
        "# importing \"cmath\" for complex number operations \n",
        "import cmath \n",
        "import math \n",
        "\n",
        "# printing the value of pi \n",
        "print (\"The value of pi is : \", end=\"\") \n",
        "print (cmath.pi) \n",
        "\n",
        "# printing the value of e \n",
        "print (\"The value of exponent is : \", end=\"\") \n",
        "print (cmath.e) \n"
      ],
      "execution_count": 7,
      "outputs": [
        {
          "output_type": "stream",
          "text": [
            "The value of pi is : 3.141592653589793\n",
            "The value of exponent is : 2.718281828459045\n"
          ],
          "name": "stdout"
        }
      ]
    },
    {
      "cell_type": "code",
      "metadata": {
        "id": "6CO1Q8kvjL6m",
        "colab_type": "code",
        "colab": {
          "base_uri": "https://localhost:8080/",
          "height": 72
        },
        "outputId": "b9e1bb85-2a4a-4990-f285-5a970070e3b1"
      },
      "source": [
        "# Python code to demonstrate the working of \n",
        "# sin(), cos(), tan() \n",
        "\n",
        "# importing \"cmath\" for complex number operations \n",
        "import cmath \n",
        "\n",
        "# Initializing real numbers \n",
        "x = 1.0\n",
        "\n",
        "y = 1.0\n",
        "\n",
        "# converting x and y into complex number z \n",
        "z = complex(x,y); \n",
        "\n",
        "# printing sine of the complex number \n",
        "print (\"The sine value of complex number is : \",end=\"\") \n",
        "print (cmath.sin(z)) \n",
        "\n",
        "# printing cosine of the complex number \n",
        "print (\"The cosine value of complex number is : \",end=\"\") \n",
        "print (cmath.cos(z)) \n",
        "\n",
        "# printing tangent of the complex number \n",
        "print (\"The tangent value of complex number is : \",end=\"\") \n",
        "print (cmath.tan(z)) \n"
      ],
      "execution_count": 8,
      "outputs": [
        {
          "output_type": "stream",
          "text": [
            "The sine value of complex number is : (1.2984575814159773+0.6349639147847361j)\n",
            "The cosine value of complex number is : (0.8337300251311491-0.9888977057628651j)\n",
            "The tangent value of complex number is : (0.2717525853195118+1.0839233273386946j)\n"
          ],
          "name": "stdout"
        }
      ]
    },
    {
      "cell_type": "code",
      "metadata": {
        "id": "KdYwW8yJjL_H",
        "colab_type": "code",
        "colab": {
          "base_uri": "https://localhost:8080/",
          "height": 72
        },
        "outputId": "b439db35-3379-4ea8-f2a5-38635fbe0fce"
      },
      "source": [
        "# Python code to demonstrate the working of \n",
        "# asin(), acos(), atan() \n",
        "\n",
        "# importing \"cmath\" for complex number operations \n",
        "import cmath \n",
        "\n",
        "# Initializing real numbers \n",
        "x = 1.0\n",
        "\n",
        "y = 1.0\n",
        "\n",
        "# converting x and y into complex number z \n",
        "z = complex(x,y); \n",
        "\n",
        "# printing arc sine of the complex number \n",
        "print (\"The arc sine value of complex number is : \",end=\"\") \n",
        "print (cmath.asin(z)) \n",
        "\n",
        "# printing arc cosine of the complex number \n",
        "print (\"The arc cosine value of complex number is : \",end=\"\") \n",
        "print (cmath.acos(z)) \n",
        "\n",
        "# printing arc tangent of the complex number \n",
        "print (\"The arc tangent value of complex number is : \",end=\"\") \n",
        "print (cmath.atan(z)) \n"
      ],
      "execution_count": 9,
      "outputs": [
        {
          "output_type": "stream",
          "text": [
            "The arc sine value of complex number is : (0.6662394324925153+1.0612750619050357j)\n",
            "The arc cosine value of complex number is : (0.9045568943023814-1.0612750619050357j)\n",
            "The arc tangent value of complex number is : (1.0172219678978514+0.40235947810852507j)\n"
          ],
          "name": "stdout"
        }
      ]
    },
    {
      "cell_type": "code",
      "metadata": {
        "id": "juCI2TvLjMC2",
        "colab_type": "code",
        "colab": {
          "base_uri": "https://localhost:8080/",
          "height": 72
        },
        "outputId": "6c376274-1dca-47fc-972a-3dbdeb7514d0"
      },
      "source": [
        "# Python code to demonstrate the working of \n",
        "# sinh(), cosh(), tanh() \n",
        "\n",
        "# importing \"cmath\" for complex number operations \n",
        "import cmath \n",
        "\n",
        "# Initializing real numbers \n",
        "x = 1.0\n",
        "\n",
        "y = 1.0\n",
        "\n",
        "# converting x and y into complex number z \n",
        "z = complex(x,y); \n",
        "\n",
        "# printing hyperbolic sine of the complex number \n",
        "print (\"The hyperbolic sine value of complex number is : \",end=\"\") \n",
        "print (cmath.sinh(z)) \n",
        "\n",
        "# printing hyperbolic cosine of the complex number \n",
        "print (\"The hyperbolic cosine value of complex number is : \",end=\"\") \n",
        "print (cmath.cosh(z)) \n",
        "\n",
        "# printing hyperbolic tangent of the complex number \n",
        "print (\"The hyperbolic tangent value of complex number is : \",end=\"\") \n",
        "print (cmath.tanh(z)) \n"
      ],
      "execution_count": 10,
      "outputs": [
        {
          "output_type": "stream",
          "text": [
            "The hyperbolic sine value of complex number is : (0.6349639147847361+1.2984575814159773j)\n",
            "The hyperbolic cosine value of complex number is : (0.8337300251311491+0.9888977057628651j)\n",
            "The hyperbolic tangent value of complex number is : (1.0839233273386946+0.2717525853195118j)\n"
          ],
          "name": "stdout"
        }
      ]
    },
    {
      "cell_type": "code",
      "metadata": {
        "id": "lQwvAPzkjMF_",
        "colab_type": "code",
        "colab": {
          "base_uri": "https://localhost:8080/",
          "height": 72
        },
        "outputId": "d2f6cc16-ad90-4642-dc63-27f795ebd519"
      },
      "source": [
        "# Python code to demonstrate the working of \n",
        "# asinh(), acosh(), atanh() \n",
        "\n",
        "# importing \"cmath\" for complex number operations \n",
        "import cmath \n",
        "\n",
        "# Initializing real numbers \n",
        "x = 1.0\n",
        "\n",
        "y = 1.0\n",
        "\n",
        "# converting x and y into complex number z \n",
        "z = complex(x,y); \n",
        "\n",
        "# printing inverse hyperbolic sine of the complex number \n",
        "print (\"The inverse hyperbolic sine value of complex number is : \",end=\"\") \n",
        "print (cmath.asinh(z)) \n",
        "\n",
        "# printing inverse hyperbolic cosine of the complex number \n",
        "print (\"The inverse hyperbolic cosine value of complex number is : \",end=\"\") \n",
        "print (cmath.acosh(z)) \n",
        "\n",
        "# printing inverse hyperbolic tangent of the complex number \n",
        "print (\"The inverse hyperbolic tangent value of complex number is : \",end=\"\") \n",
        "print (cmath.atanh(z)) \n"
      ],
      "execution_count": 11,
      "outputs": [
        {
          "output_type": "stream",
          "text": [
            "The inverse hyperbolic sine value of complex number is : (1.0612750619050357+0.6662394324925153j)\n",
            "The inverse hyperbolic cosine value of complex number is : (1.0612750619050357+0.9045568943023813j)\n",
            "The inverse hyperbolic tangent value of complex number is : (0.40235947810852507+1.0172219678978514j)\n"
          ],
          "name": "stdout"
        }
      ]
    },
    {
      "cell_type": "code",
      "metadata": {
        "id": "om4bXVMzjMJH",
        "colab_type": "code",
        "colab": {
          "base_uri": "https://localhost:8080/",
          "height": 35
        },
        "outputId": "4888e9aa-e58b-4ec0-fb8b-88a07831ec6e"
      },
      "source": [
        "1+3j.conjugate()"
      ],
      "execution_count": 12,
      "outputs": [
        {
          "output_type": "execute_result",
          "data": {
            "text/plain": [
              "(1-3j)"
            ]
          },
          "metadata": {
            "tags": []
          },
          "execution_count": 12
        }
      ]
    },
    {
      "cell_type": "code",
      "metadata": {
        "id": "8hHUa-ydj7Dk",
        "colab_type": "code",
        "colab": {
          "base_uri": "https://localhost:8080/",
          "height": 90
        },
        "outputId": "98bf6ca3-8516-4083-fa7c-ce9a982a97e3"
      },
      "source": [
        "c = 1 + 2j\n",
        "print(type(c))\n",
        "print(c)\n",
        "\n",
        "c1 = complex(2, 4)\n",
        "print(type(c1))\n",
        "print(c1)"
      ],
      "execution_count": 13,
      "outputs": [
        {
          "output_type": "stream",
          "text": [
            "<class 'complex'>\n",
            "(1+2j)\n",
            "<class 'complex'>\n",
            "(2+4j)\n"
          ],
          "name": "stdout"
        }
      ]
    },
    {
      "cell_type": "code",
      "metadata": {
        "id": "FZmrAUqCkxf4",
        "colab_type": "code",
        "colab": {
          "base_uri": "https://localhost:8080/",
          "height": 72
        },
        "outputId": "7325f633-361e-4049-da85-29afd4cdabc9"
      },
      "source": [
        "c = 1 + 2j\n",
        "print('Real Part =', c.real)\n",
        "print('Imaginary Part =', c.imag)\n",
        "print('Complex conjugate =', c.conjugate())"
      ],
      "execution_count": 14,
      "outputs": [
        {
          "output_type": "stream",
          "text": [
            "Real Part = 1.0\n",
            "Imaginary Part = 2.0\n",
            "Complex conjugate = (1-2j)\n"
          ],
          "name": "stdout"
        }
      ]
    },
    {
      "cell_type": "code",
      "metadata": {
        "id": "y3WDD-egk6gO",
        "colab_type": "code",
        "colab": {
          "base_uri": "https://localhost:8080/",
          "height": 90
        },
        "outputId": "79ec9cca-d7a4-429d-a09a-74b8ef2ba667"
      },
      "source": [
        "c = 1 + 2j\n",
        "c1 = 2 + 4j\n",
        "print('Addition =', c + c1)\n",
        "print('Subtraction =', c - c1)\n",
        "print('Multiplication =', c * c1)\n",
        "print('Division =', c1 / c)"
      ],
      "execution_count": 15,
      "outputs": [
        {
          "output_type": "stream",
          "text": [
            "Addition = (3+6j)\n",
            "Subtraction = (-1-2j)\n",
            "Multiplication = (-6+8j)\n",
            "Division = (2+0j)\n"
          ],
          "name": "stdout"
        }
      ]
    },
    {
      "cell_type": "code",
      "metadata": {
        "id": "Gh6Zzr57k9Hs",
        "colab_type": "code",
        "colab": {
          "base_uri": "https://localhost:8080/",
          "height": 90
        },
        "outputId": "b1a9fa60-5df8-43d6-e0cc-26321c4d5d02"
      },
      "source": [
        "import cmath, math, numpy\n",
        "\n",
        "c = 2 + 2j\n",
        "\n",
        "# phase\n",
        "phase = cmath.phase(c)\n",
        "print('2 + 2j Phase =', phase)\n",
        "print('Phase in Degrees =', numpy.degrees(phase))\n",
        "print('-2 - 2j Phase =', cmath.phase(-2 - 2j), 'radians. Degrees =', numpy.degrees(cmath.phase(-2 - 2j)))\n",
        "\n",
        "# we can get phase using math.atan2() function too\n",
        "print('Complex number phase using math.atan2() =', math.atan2(2, 1))"
      ],
      "execution_count": 16,
      "outputs": [
        {
          "output_type": "stream",
          "text": [
            "2 + 2j Phase = 0.7853981633974483\n",
            "Phase in Degrees = 45.0\n",
            "-2 - 2j Phase = -2.356194490192345 radians. Degrees = -135.0\n",
            "Complex number phase using math.atan2() = 1.1071487177940904\n"
          ],
          "name": "stdout"
        }
      ]
    },
    {
      "cell_type": "code",
      "metadata": {
        "id": "M1CqgmWelA8T",
        "colab_type": "code",
        "colab": {
          "base_uri": "https://localhost:8080/",
          "height": 90
        },
        "outputId": "35f002be-6d36-407c-97ae-43079e04963f"
      },
      "source": [
        "c = 1 + 2j\n",
        "\n",
        "modulus = abs(c)\n",
        "phase = cmath.phase(c)\n",
        "polar = cmath.polar(c)\n",
        "\n",
        "print('Modulus =', modulus)\n",
        "print('Phase =', phase)\n",
        "print('Polar Coordinates =', polar)\n",
        "\n",
        "print('Rectangular Coordinates =', cmath.rect(modulus, phase))"
      ],
      "execution_count": 17,
      "outputs": [
        {
          "output_type": "stream",
          "text": [
            "Modulus = 2.23606797749979\n",
            "Phase = 1.1071487177940904\n",
            "Polar Coordinates = (2.23606797749979, 1.1071487177940904)\n",
            "Rectangular Coordinates = (1.0000000000000002+2j)\n"
          ],
          "name": "stdout"
        }
      ]
    },
    {
      "cell_type": "code",
      "metadata": {
        "id": "-rZS3Mj-lEBp",
        "colab_type": "code",
        "colab": {
          "base_uri": "https://localhost:8080/",
          "height": 146
        },
        "outputId": "947e842a-3e3b-469d-f5af-a183e9f42d1b"
      },
      "source": [
        "print('π =', cmath.pi)\n",
        "print('e =', cmath.e)\n",
        "print('tau =', cmath.tau)\n",
        "print('Positive infinity =', cmath.inf)\n",
        "print('Positive Complex infinity =', cmath.infj)\n",
        "print('NaN =', cmath.nan)\n",
        "print('NaN Complex =', cmath.nanj)"
      ],
      "execution_count": 18,
      "outputs": [
        {
          "output_type": "stream",
          "text": [
            "π = 3.141592653589793\n",
            "e = 2.718281828459045\n",
            "tau = 6.283185307179586\n",
            "Positive infinity = inf\n",
            "Positive Complex infinity = infj\n",
            "NaN = nan\n",
            "NaN Complex = nanj\n"
          ],
          "name": "stdout"
        }
      ]
    },
    {
      "cell_type": "code",
      "metadata": {
        "id": "7dvu_p0klG94",
        "colab_type": "code",
        "colab": {
          "base_uri": "https://localhost:8080/",
          "height": 90
        },
        "outputId": "8693e870-4a20-487f-9f3b-3066c07ed9ad"
      },
      "source": [
        "c = 2 + 2j\n",
        "print('e^c =', cmath.exp(c))\n",
        "print('log2(c) =', cmath.log(c, 2))\n",
        "print('log10(c) =', cmath.log10(c))\n",
        "print('sqrt(c) =', cmath.sqrt(c))"
      ],
      "execution_count": 19,
      "outputs": [
        {
          "output_type": "stream",
          "text": [
            "e^c = (-3.074932320639359+6.71884969742825j)\n",
            "log2(c) = (1.5000000000000002+1.1330900354567985j)\n",
            "log10(c) = (0.4515449934959718+0.3410940884604603j)\n",
            "sqrt(c) = (1.5537739740300374+0.6435942529055826j)\n"
          ],
          "name": "stdout"
        }
      ]
    },
    {
      "cell_type": "code",
      "metadata": {
        "id": "aCzLW35YlK2c",
        "colab_type": "code",
        "colab": {
          "base_uri": "https://localhost:8080/",
          "height": 127
        },
        "outputId": "b0fe8617-affa-4fd3-8d88-aaf858e33e50"
      },
      "source": [
        "c = 2 + 2j\n",
        "print('arc sine =', cmath.asin(c))\n",
        "print('arc cosine =', cmath.acos(c))\n",
        "print('arc tangent =', cmath.atan(c))\n",
        "\n",
        "print('sine =', cmath.sin(c))\n",
        "print('cosine =', cmath.cos(c))\n",
        "print('tangent =', cmath.tan(c))"
      ],
      "execution_count": 20,
      "outputs": [
        {
          "output_type": "stream",
          "text": [
            "arc sine = (0.7542491446980459+1.7343245214879666j)\n",
            "arc cosine = (0.8165471820968505-1.7343245214879666j)\n",
            "arc tangent = (1.311223269671635+0.23887786125685911j)\n",
            "sine = (3.4209548611170133-1.5093064853236158j)\n",
            "cosine = (-1.5656258353157435-3.297894836311237j)\n",
            "tangent = (-0.028392952868232294+1.0238355945704727j)\n"
          ],
          "name": "stdout"
        }
      ]
    },
    {
      "cell_type": "code",
      "metadata": {
        "id": "19ZmXE3ylNyT",
        "colab_type": "code",
        "colab": {
          "base_uri": "https://localhost:8080/",
          "height": 127
        },
        "outputId": "ce4335d6-a218-4750-99a7-da9f268a495d"
      },
      "source": [
        "c = 2 + 2j\n",
        "print('inverse hyperbolic sine =', cmath.asinh(c))\n",
        "print('inverse hyperbolic cosine =', cmath.acosh(c))\n",
        "print('inverse hyperbolic tangent =', cmath.atanh(c))\n",
        "\n",
        "print('hyperbolic sine =', cmath.sinh(c))\n",
        "print('hyperbolic cosine =', cmath.cosh(c))\n",
        "print('hyperbolic tangent =', cmath.tanh(c))"
      ],
      "execution_count": 21,
      "outputs": [
        {
          "output_type": "stream",
          "text": [
            "inverse hyperbolic sine = (1.7343245214879666+0.7542491446980459j)\n",
            "inverse hyperbolic cosine = (1.7343245214879666+0.8165471820968505j)\n",
            "inverse hyperbolic tangent = (0.23887786125685911+1.311223269671635j)\n",
            "hyperbolic sine = (-1.5093064853236158+3.4209548611170133j)\n",
            "hyperbolic cosine = (-1.5656258353157435+3.297894836311237j)\n",
            "hyperbolic tangent = (1.0238355945704727-0.028392952868232294j)\n"
          ],
          "name": "stdout"
        }
      ]
    },
    {
      "cell_type": "code",
      "metadata": {
        "id": "rt3iMtLglRST",
        "colab_type": "code",
        "colab": {
          "base_uri": "https://localhost:8080/",
          "height": 72
        },
        "outputId": "deb98204-45c9-4009-a9dc-5d0a60c87fb6"
      },
      "source": [
        "# python 3\n",
        "\n",
        "cc = complex(3, 4)\n",
        "\n",
        "# alternative notation\n",
        "cc2 = 3 + 4j\n",
        "\n",
        "print(cc)\n",
        "# (3+4j)\n",
        "\n",
        "print(cc2)\n",
        "# (3+4j)\n",
        "\n",
        "print(cc==cc2)\n",
        "# True"
      ],
      "execution_count": 22,
      "outputs": [
        {
          "output_type": "stream",
          "text": [
            "(3+4j)\n",
            "(3+4j)\n",
            "True\n"
          ],
          "name": "stdout"
        }
      ]
    },
    {
      "cell_type": "code",
      "metadata": {
        "id": "AdAWgaKilpZ5",
        "colab_type": "code",
        "colab": {
          "base_uri": "https://localhost:8080/",
          "height": 54
        },
        "outputId": "9cfa0b59-d765-4469-ad34-5ace3c8c88b3"
      },
      "source": [
        "# python 3\n",
        "\n",
        "cc = complex(3, 4)\n",
        "\n",
        "print(cc.real)\n",
        "# 3.0\n",
        "\n",
        "print(cc.imag)\n",
        "# 4.0"
      ],
      "execution_count": 23,
      "outputs": [
        {
          "output_type": "stream",
          "text": [
            "3.0\n",
            "4.0\n"
          ],
          "name": "stdout"
        }
      ]
    },
    {
      "cell_type": "code",
      "metadata": {
        "id": "J18bwftHlsbx",
        "colab_type": "code",
        "colab": {
          "base_uri": "https://localhost:8080/",
          "height": 54
        },
        "outputId": "50e1e0a3-2d21-4efc-d67c-39e32f961a0b"
      },
      "source": [
        "# python 3\n",
        "\n",
        "# addition\n",
        "print(( complex(2, 3) + complex(4, 5) ))\n",
        "# (6+8j)\n",
        "\n",
        "# adding a scalar adds to the real part\n",
        "print(( complex(3, 4) + 1) )\n",
        "# (4+4j)"
      ],
      "execution_count": 24,
      "outputs": [
        {
          "output_type": "stream",
          "text": [
            "(6+8j)\n",
            "(4+4j)\n"
          ],
          "name": "stdout"
        }
      ]
    },
    {
      "cell_type": "code",
      "metadata": {
        "id": "CVgl5k0Jluz0",
        "colab_type": "code",
        "colab": {
          "base_uri": "https://localhost:8080/",
          "height": 54
        },
        "outputId": "9fb8b07c-2d70-474c-bfe8-8e7140c39658"
      },
      "source": [
        "# python 3\n",
        "\n",
        "# multiplication\n",
        "print(( complex(1, 0) * complex(0, 1) ))\n",
        "# (1j)\n",
        "\n",
        "# scalar multiplication\n",
        "print(( complex(3, 4) * 2) )\n",
        "# (6+8j)"
      ],
      "execution_count": 25,
      "outputs": [
        {
          "output_type": "stream",
          "text": [
            "1j\n",
            "(6+8j)\n"
          ],
          "name": "stdout"
        }
      ]
    },
    {
      "cell_type": "code",
      "metadata": {
        "id": "lMX2NPLElxQi",
        "colab_type": "code",
        "colab": {
          "base_uri": "https://localhost:8080/",
          "height": 35
        },
        "outputId": "2db1c9a7-0fb8-4152-defa-86e36f39ece7"
      },
      "source": [
        "# python 3\n",
        "\n",
        "print( abs(complex(3, 4)) )\n",
        "# 5.0"
      ],
      "execution_count": 26,
      "outputs": [
        {
          "output_type": "stream",
          "text": [
            "5.0\n"
          ],
          "name": "stdout"
        }
      ]
    },
    {
      "cell_type": "code",
      "metadata": {
        "id": "tdj9W_8Qlz21",
        "colab_type": "code",
        "colab": {
          "base_uri": "https://localhost:8080/",
          "height": 35
        },
        "outputId": "500b6090-3388-416d-941e-980f278d8b93"
      },
      "source": [
        "# python 3\n",
        "\n",
        "import cmath\n",
        "\n",
        "# gets angle. return in radians, between  [-π, π]\n",
        "print( cmath.phase(0+1j) )\n",
        "# 1.5707963267948966"
      ],
      "execution_count": 27,
      "outputs": [
        {
          "output_type": "stream",
          "text": [
            "1.5707963267948966\n"
          ],
          "name": "stdout"
        }
      ]
    },
    {
      "cell_type": "code",
      "metadata": {
        "id": "dBjQqqxVl3zR",
        "colab_type": "code",
        "colab": {
          "base_uri": "https://localhost:8080/",
          "height": 35
        },
        "outputId": "b3e647d5-00cd-4ab3-c311-d3f62f0acea7"
      },
      "source": [
        "#python 3\n",
        "\n",
        "import cmath\n",
        "\n",
        "z1 = complex(0, 1)\n",
        "\n",
        "# get polar coordinates. Returns (length, angle).\n",
        "print( cmath.polar(z1) )\n",
        "# (1.0, 1.5707963267948966)"
      ],
      "execution_count": 28,
      "outputs": [
        {
          "output_type": "stream",
          "text": [
            "(1.0, 1.5707963267948966)\n"
          ],
          "name": "stdout"
        }
      ]
    },
    {
      "cell_type": "code",
      "metadata": {
        "id": "dbsR5RS1l6oK",
        "colab_type": "code",
        "colab": {
          "base_uri": "https://localhost:8080/",
          "height": 35
        },
        "outputId": "a5f5fe2a-3d59-449b-bf19-04896570f70a"
      },
      "source": [
        "# python 3\n",
        "\n",
        "import cmath\n",
        "\n",
        "# polar to rectangular. Input is (length, ‹angle in radians›). Returns a complex number\n",
        "z2 = cmath.rect(1, cmath.pi)\n",
        "print(z2)\n",
        "# (-1+1.2246467991473532e-16j)\n",
        "# really is just -1 + 0j"
      ],
      "execution_count": 29,
      "outputs": [
        {
          "output_type": "stream",
          "text": [
            "(-1+1.2246467991473532e-16j)\n"
          ],
          "name": "stdout"
        }
      ]
    },
    {
      "cell_type": "code",
      "metadata": {
        "id": "wbPioWw9mGWF",
        "colab_type": "code",
        "colab": {
          "base_uri": "https://localhost:8080/",
          "height": 54
        },
        "outputId": "b1277252-3268-4069-ddec-944a34a4f4dd"
      },
      "source": [
        "# python 3\n",
        "\n",
        "import cmath\n",
        "\n",
        "print(cmath.pi)\n",
        "# 3.141592653589793\n",
        "\n",
        "print(cmath.e)\n",
        "# 2.718281828459045"
      ],
      "execution_count": 30,
      "outputs": [
        {
          "output_type": "stream",
          "text": [
            "3.141592653589793\n",
            "2.718281828459045\n"
          ],
          "name": "stdout"
        }
      ]
    },
    {
      "cell_type": "code",
      "metadata": {
        "id": "V4uEDvoVmJCY",
        "colab_type": "code",
        "colab": {}
      },
      "source": [
        ""
      ],
      "execution_count": 0,
      "outputs": []
    }
  ]
}